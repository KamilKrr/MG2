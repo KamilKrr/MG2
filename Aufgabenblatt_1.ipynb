{
 "cells": [
  {
   "cell_type": "markdown",
   "metadata": {},
   "source": [
    "# Aufgabenblatt 1"
   ]
  },
  {
   "cell_type": "markdown",
   "metadata": {},
   "source": [
    "## Eindimensionale Analysis – Differentialrechnung 1"
   ]
  },
  {
   "cell_type": "markdown",
   "metadata": {},
   "source": [
    "### Aufgabe 1\n",
    "\n",
    "Differenzieren Sie folgende rationale Funktion:\n",
    "\n",
    "$$f(x)=\\frac{1-x^2}{1+x^2}$$"
   ]
  },
  {
   "cell_type": "markdown",
   "metadata": {},
   "source": [
    "Quotientenregel anwenden:\n",
    "\n",
    "$$f'(x)=\\frac{-2x(1+x^2)-2x(1-x^2)}{(1+x^2)^2}$$\n",
    "\n"
   ]
  },
  {
   "cell_type": "markdown",
   "metadata": {},
   "source": [
    "### Aufgabe 2\n",
    "\n",
    "Differenzieren Sie folgende Wurzelfunktion:\n",
    "\n",
    "$$f(x)=\\sqrt{x^3-2x}$$"
   ]
  },
  {
   "cell_type": "markdown",
   "metadata": {},
   "source": [
    "### Aufgabe 3\n",
    "\n",
    "Differenzieren Sie folgende Wurzelfunktion:\n",
    "\n",
    "$$f(x)=\\frac{1}{\\sqrt{x-1}}$$\n"
   ]
  },
  {
   "cell_type": "markdown",
   "metadata": {},
   "source": [
    "### Aufgabe 4\n",
    "\n",
    "Differenzieren Sie folgende Funktionen:\n",
    "\n",
    "a) $$f(x)=\\sin{x}\\cos{x}$$"
   ]
  },
  {
   "cell_type": "markdown",
   "metadata": {},
   "source": [
    "b) $$f(x)=\\sin^2{x}$$"
   ]
  },
  {
   "cell_type": "markdown",
   "metadata": {},
   "source": [
    "### Aufgabe 5\n",
    "\n",
    "Differenzieren Sie folgende Funktionen:\n",
    "\n",
    "a)\n",
    "$$f(x)=\\sin{x^2}$$"
   ]
  },
  {
   "cell_type": "markdown",
   "metadata": {},
   "source": [
    "b) $$f(x)=\\tan{x}\\sin{x}$$"
   ]
  },
  {
   "cell_type": "markdown",
   "metadata": {},
   "source": [
    "### Aufgabe 6\n",
    "\n",
    "Differenzieren Sie folgende Funktion:\n",
    "\n",
    "$$ f(x)=\\arctan{\\sqrt{x}} $$"
   ]
  },
  {
   "cell_type": "markdown",
   "metadata": {},
   "source": [
    "### Aufgabe 7\n",
    "\n",
    "Differenzieren Sie folgende Funktion:\n",
    "\n",
    "$$ f(x)=\\arccos{e^x} $$"
   ]
  },
  {
   "cell_type": "markdown",
   "metadata": {},
   "source": [
    "### Aufgabe 8\n",
    "\n",
    "Diskutieren Sie die folgende Funktion (Plot, Nullstellen, Extrema,\n",
    "Monotonie, Wendepunkte, Krümmungsverhalten, Konvergenz):\n",
    "\n",
    "$$f(x)=x^3-3x$$"
   ]
  }
 ],
 "metadata": {
  "kernelspec": {
   "display_name": "Python 3 (ipykernel)",
   "language": "python",
   "name": "python3"
  },
  "language_info": {
   "codemirror_mode": {
    "name": "ipython",
    "version": 3
   },
   "file_extension": ".py",
   "mimetype": "text/x-python",
   "name": "python",
   "nbconvert_exporter": "python",
   "pygments_lexer": "ipython3",
   "version": "3.9.5"
  }
 },
 "nbformat": 4,
 "nbformat_minor": 2
}
