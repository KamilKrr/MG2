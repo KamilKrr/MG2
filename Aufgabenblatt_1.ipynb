{
 "cells": [
  {
   "cell_type": "markdown",
   "metadata": {},
   "source": [
    "# Aufgabenblatt 1"
   ]
  },
  {
   "cell_type": "code",
   "execution_count": 3,
   "metadata": {},
   "outputs": [],
   "source": [
    "from sympy import *\n",
    "x = symbols('x', real=True)"
   ]
  },
  {
   "cell_type": "markdown",
   "metadata": {},
   "source": [
    "## Eindimensionale Analysis – Differentialrechnung 1"
   ]
  },
  {
   "cell_type": "markdown",
   "metadata": {},
   "source": [
    "### Aufgabe 1\n",
    "\n",
    "Differenzieren Sie folgende rationale Funktion:\n",
    "\n",
    "$$f(x)=\\frac{1-x^2}{1+x^2}$$"
   ]
  },
  {
   "cell_type": "markdown",
   "metadata": {},
   "source": [
    "Quotientenregel anwenden:\n",
    "\n",
    "$$f'(x)=\\frac{-2x(1+x^2)-2x(1-x^2)}{(1+x^2)^2}$$\n",
    "\n",
    "Zähler ausmultiplizieren:\n",
    "\n",
    "$$f'(x)=\\frac{-2x-2x^3-2x+2x^3}{(1+x^2)^2}$$\n",
    "\n",
    "Zähler vereinfachen:\n",
    "\n",
    "$$f'(x)=\\frac{-4x}{(1+x^2)^2}$$"
   ]
  },
  {
   "cell_type": "code",
   "execution_count": 2,
   "metadata": {},
   "outputs": [
    {
     "data": {
      "text/latex": [
       "$\\displaystyle - \\frac{4 x}{\\left(x^{2} + 1\\right)^{2}}$"
      ],
      "text/plain": [
       "-4*x/(x**2 + 1)**2"
      ]
     },
     "execution_count": 2,
     "metadata": {},
     "output_type": "execute_result"
    }
   ],
   "source": [
    "diff((1-x**2)/(1+x**2),x).simplify()"
   ]
  },
  {
   "cell_type": "markdown",
   "metadata": {},
   "source": [
    "### Aufgabe 2\n",
    "\n",
    "Differenzieren Sie folgende Wurzelfunktion:\n",
    "\n",
    "$$f(x)=\\sqrt{x^3-2x}$$"
   ]
  },
  {
   "cell_type": "markdown",
   "metadata": {},
   "source": [
    "innere Ableitung:\n",
    "\n",
    "$$v(x)=x^3-2x$$\n",
    "$$v'(x)=3x^2-2$$\n",
    "\n",
    "äußere Ableitung:\n",
    "\n",
    "$$u(x)=\\sqrt{v}$$\n",
    "$$u'(x)=\\frac{1}{2\\sqrt{v}}$$\n",
    "\n",
    "Kettenregel:\n",
    "\n",
    "$$f'(x)=u'(v)*v'(x)$$\n",
    "\n",
    "einsetzen:\n",
    "\n",
    "$$f'(x)=\\frac{1}{2\\sqrt{x^3-2x}}*3x^2-2$$\n",
    "\n",
    "vereinfachen:\n",
    "\n",
    "$$f'(x)=\\frac{3x^2-2}{2\\sqrt{x^3-2x}}$$\n",
    "\n",
    "evtl. im Nenner herausheben:\n",
    "\n",
    "$$f'(x)=\\frac{3x^2-2}{2\\sqrt{x(x^2-2)}}$$"
   ]
  },
  {
   "cell_type": "code",
   "execution_count": 3,
   "metadata": {},
   "outputs": [
    {
     "data": {
      "text/latex": [
       "$\\displaystyle \\frac{3 x^{2} - 2}{2 \\sqrt{x \\left(x^{2} - 2\\right)}}$"
      ],
      "text/plain": [
       "(3*x**2 - 2)/(2*sqrt(x*(x**2 - 2)))"
      ]
     },
     "execution_count": 3,
     "metadata": {},
     "output_type": "execute_result"
    }
   ],
   "source": [
    "diff(sqrt(x**3-2*x),x).simplify()"
   ]
  },
  {
   "cell_type": "markdown",
   "metadata": {},
   "source": [
    "### Aufgabe 3\n",
    "\n",
    "Differenzieren Sie folgende Wurzelfunktion:\n",
    "\n",
    "$$f(x)=\\frac{1}{\\sqrt{x-1}}$$\n"
   ]
  },
  {
   "cell_type": "markdown",
   "metadata": {},
   "source": [
    "innere Ableitung:\n",
    "\n",
    "$$v(x)=x-1$$\n",
    "$$v'(x)=1$$\n",
    "\n",
    "äußere Ableitung:\n",
    "\n",
    "$$u(v)=\\frac{1}{\\sqrt{v}}$$\n",
    "$$u(v)=v^{-0.5}$$\n",
    "$$u'(v)=-\\frac{1}{2}v^{-1.5}$$\n",
    "$$u'(v)=-\\frac{1}{2v^{1.5}}$$\n",
    "\n",
    "Kettenregel:\n",
    "\n",
    "$$f'(x)=u'(v)*v'(x)$$\n",
    "\n",
    "einsetzen:\n",
    "\n",
    "$$f'(x)=-\\frac{1}{2(x-1)^{1.5}}*1$$\n",
    "\n",
    "vereinfachen:\n",
    "\n",
    "$$f'(x)=-\\frac{1}{2(x-1)^{\\frac{3}{2}}}$$"
   ]
  },
  {
   "cell_type": "code",
   "execution_count": 4,
   "metadata": {},
   "outputs": [
    {
     "data": {
      "text/latex": [
       "$\\displaystyle - \\frac{1}{2 \\left(x - 1\\right)^{\\frac{3}{2}}}$"
      ],
      "text/plain": [
       "-1/(2*(x - 1)**(3/2))"
      ]
     },
     "execution_count": 4,
     "metadata": {},
     "output_type": "execute_result"
    }
   ],
   "source": [
    "diff(1/(sqrt(x-1)),x).simplify()"
   ]
  },
  {
   "cell_type": "markdown",
   "metadata": {},
   "source": [
    "### Aufgabe 4\n",
    "\n",
    "Differenzieren Sie folgende Funktionen:\n",
    "\n",
    "a) $$f(x)=\\sin{x}\\cos{x}$$"
   ]
  },
  {
   "cell_type": "markdown",
   "metadata": {},
   "source": [
    "Produktregel anwenden:\n",
    "\n",
    "$$f'(x)=\\cos{x}\\cos{x}+\\sin{x}*(-\\sin{x})$$\n",
    "\n",
    "Vereinfachen:\n",
    "\n",
    "$$f'(x)=\\cos^2{x}-\\sin^2{x}$$"
   ]
  },
  {
   "cell_type": "code",
   "execution_count": 5,
   "metadata": {},
   "outputs": [
    {
     "data": {
      "text/latex": [
       "$\\displaystyle - \\sin^{2}{\\left(x \\right)} + \\cos^{2}{\\left(x \\right)}$"
      ],
      "text/plain": [
       "-sin(x)**2 + cos(x)**2"
      ]
     },
     "execution_count": 5,
     "metadata": {},
     "output_type": "execute_result"
    }
   ],
   "source": [
    "diff(sin(x)*cos(x),x)"
   ]
  },
  {
   "cell_type": "markdown",
   "metadata": {},
   "source": [
    "b) $$f(x)=\\sin^2{x}$$"
   ]
  },
  {
   "cell_type": "markdown",
   "metadata": {},
   "source": [
    "$$f(x)=\\sin{x}\\sin{x}$$\n",
    "\n",
    "Produktregel anwenden:\n",
    "\n",
    "$$f'(x)=\\cos{x}\\sin{x}+\\sin{x}*\\cos{x}$$\n",
    "\n",
    "Vereinfachen:\n",
    "\n",
    "$$f'(x)=2\\sin{x}\\cos{x}$$"
   ]
  },
  {
   "cell_type": "code",
   "execution_count": 6,
   "metadata": {},
   "outputs": [
    {
     "data": {
      "text/latex": [
       "$\\displaystyle 2 \\sin{\\left(x \\right)} \\cos{\\left(x \\right)}$"
      ],
      "text/plain": [
       "2*sin(x)*cos(x)"
      ]
     },
     "execution_count": 6,
     "metadata": {},
     "output_type": "execute_result"
    }
   ],
   "source": [
    "diff(sin(x)*sin(x),x)"
   ]
  },
  {
   "cell_type": "markdown",
   "metadata": {},
   "source": [
    "### Aufgabe 5\n",
    "\n",
    "Differenzieren Sie folgende Funktionen:\n",
    "\n",
    "a)\n",
    "$$f(x)=\\sin{x^2}$$"
   ]
  },
  {
   "cell_type": "markdown",
   "metadata": {},
   "source": [
    "innere Ableitung:\n",
    "\n",
    "$$v(x)=x^2$$\n",
    "$$v'(x)=2x$$\n",
    "\n",
    "äußere Ableitung:\n",
    "\n",
    "$$u(x)=\\sin{v}$$\n",
    "$$u'(x)=\\cos{v}$$\n",
    "\n",
    "Kettenregel:\n",
    "\n",
    "$$f'(x)=u'(v)*v'(x)$$\n",
    "\n",
    "einsetzen:\n",
    "\n",
    "$$f'(x)=\\cos{x^2}*2x$$"
   ]
  },
  {
   "cell_type": "code",
   "execution_count": 7,
   "metadata": {},
   "outputs": [
    {
     "data": {
      "text/latex": [
       "$\\displaystyle 2 x \\cos{\\left(x^{2} \\right)}$"
      ],
      "text/plain": [
       "2*x*cos(x**2)"
      ]
     },
     "execution_count": 7,
     "metadata": {},
     "output_type": "execute_result"
    }
   ],
   "source": [
    "diff(sin(x**2),x)"
   ]
  },
  {
   "cell_type": "markdown",
   "metadata": {},
   "source": [
    "b) $$f(x)=\\tan{x}\\sin{x}$$"
   ]
  },
  {
   "cell_type": "markdown",
   "metadata": {},
   "source": [
    "Ableitungsregel für tan:\n",
    "\n",
    "$$\\tan{x}=\\frac{1}{\\cos^2{x}}$$\n",
    "\n",
    "Produktregel anwenden:\n",
    "\n",
    "$$f'(x)=\\frac{1}{\\cos^2{x}}\\sin{x}+\\tan{x}\\cos{x}$$\n",
    "\n",
    "Vereinfachen mittels:\n",
    "\n",
    "$$\\tan{x}=\\frac{\\sin{x}}{\\cos{x}}$$\n",
    "\n",
    "$$f'(x)=\\frac{1}{\\cos^2{x}}\\sin{x}+\\sin{x}$$\n",
    "\n",
    "Herausheben:\n",
    "\n",
    "$$f'(x)=\\sin{x}(\\frac{1}{\\cos^2{x}}+1)$$"
   ]
  },
  {
   "cell_type": "code",
   "execution_count": 8,
   "metadata": {},
   "outputs": [
    {
     "data": {
      "text/latex": [
       "$\\displaystyle \\left(1 + \\frac{1}{\\cos^{2}{\\left(x \\right)}}\\right) \\sin{\\left(x \\right)}$"
      ],
      "text/plain": [
       "(1 + cos(x)**(-2))*sin(x)"
      ]
     },
     "execution_count": 8,
     "metadata": {},
     "output_type": "execute_result"
    }
   ],
   "source": [
    "diff(tan(x)*sin(x),x).simplify()"
   ]
  },
  {
   "cell_type": "markdown",
   "metadata": {},
   "source": [
    "### Aufgabe 6\n",
    "\n",
    "Differenzieren Sie folgende Funktion:\n",
    "\n",
    "$$ f(x)=\\arctan{\\sqrt{x}} $$"
   ]
  },
  {
   "cell_type": "markdown",
   "metadata": {},
   "source": [
    "Ableitungsregel für arctan:\n",
    "\n",
    "$$\\arctan{x}=\\frac{1}{1+x^2}$$\n",
    "\n",
    "Kettenregel anwenden:\n",
    "\n",
    "$$f'(x)=\\frac{1}{1+\\sqrt{x}^2}*\\frac{1}{2\\sqrt{x}}$$\n",
    "\n",
    "Vereinfachen:\n",
    "\n",
    "$$f'(x)=\\frac{1}{(1+x)*2\\sqrt{x}}$$"
   ]
  },
  {
   "cell_type": "code",
   "execution_count": 9,
   "metadata": {},
   "outputs": [
    {
     "data": {
      "text/latex": [
       "$\\displaystyle \\frac{1}{2 \\sqrt{x} \\left(x + 1\\right)}$"
      ],
      "text/plain": [
       "1/(2*sqrt(x)*(x + 1))"
      ]
     },
     "execution_count": 9,
     "metadata": {},
     "output_type": "execute_result"
    }
   ],
   "source": [
    "diff(atan(sqrt(x)),x)"
   ]
  },
  {
   "cell_type": "markdown",
   "metadata": {},
   "source": [
    "### Aufgabe 7\n",
    "\n",
    "Differenzieren Sie folgende Funktion:\n",
    "\n",
    "$$ f(x)=\\arccos{e^x} $$"
   ]
  },
  {
   "cell_type": "markdown",
   "metadata": {},
   "source": [
    "Ableitungsregel für arccos:\n",
    "\n",
    "$$\\arccos{x}=-\\frac{1}{\\sqrt{1-x^2}}$$\n",
    "\n",
    "$$f'(x)=-\\frac{1}{\\sqrt{1-e^{2x}}}*e^x$$\n",
    "\n",
    "Vereinfachen:\n",
    "\n",
    "$$f'(x)=-\\frac{e^x}{\\sqrt{1-e^{2x}}}$$"
   ]
  },
  {
   "cell_type": "code",
   "execution_count": 10,
   "metadata": {},
   "outputs": [
    {
     "data": {
      "text/latex": [
       "$\\displaystyle - \\frac{e^{x}}{\\sqrt{1 - e^{2 x}}}$"
      ],
      "text/plain": [
       "-exp(x)/sqrt(1 - exp(2*x))"
      ]
     },
     "execution_count": 10,
     "metadata": {},
     "output_type": "execute_result"
    }
   ],
   "source": [
    "diff(acos(E**x),x)"
   ]
  },
  {
   "cell_type": "markdown",
   "metadata": {},
   "source": [
    "### Aufgabe 8\n",
    "\n",
    "Diskutieren Sie die folgende Funktion (Plot, Nullstellen, Extrema,\n",
    "Monotonie, Wendepunkte, Krümmungsverhalten, Konvergenz):\n",
    "\n",
    "$$f(x)=x^3-3x$$"
   ]
  },
  {
   "cell_type": "markdown",
   "metadata": {},
   "source": [
    "Ableitungen bilden:\n",
    "\n",
    "$$f(x)=x^3-3x$$\n",
    "$$f'(x)=3x^2-3$$\n",
    "$$f''(x)=6x$$\n",
    "$$f'''(x)=6$$\n",
    "\n",
    "Nullstellen:\n",
    "\n",
    "$$f(x)=0$$\n",
    "$$x^3-3x=0$$\n",
    "$$x(x^2-3)=0{\\rightarrow}x=0$$\n",
    "$$x^2-3=0{\\rightarrow}x=\\pm\\sqrt{3}$$\n",
    "\n",
    "Extrema:\n",
    "\n",
    "$$f'(x)=0$$\n",
    "$$3x^2-3=0$$\n",
    "$$3x^2=3$$\n",
    "$$x^2=1$$\n",
    "$$x=\\pm1$$\n",
    "\n",
    "$$x=\\pm1$$\n",
    "$$f''(1)=6$$\n",
    "$$f''(-1)=-6$$\n",
    "\n",
    "Hochpunkt bei -1\n",
    "Tiefpunkt bei 1\n",
    "\n",
    "Wendepunkte:\n",
    "$$f''(x)=0$$\n",
    "$$f'''(x)\\neq0$$\n",
    "\n",
    "$$6x=0$$\n",
    "$$x=0$$\n",
    "$$6\\neq0$$\n",
    "\n",
    "Wendepunkt bei 0\n",
    "\n",
    "Monotonie:\n",
    "$$f'(x)=3x^2-3$$\n",
    "\n",
    "monoton steigend wenn \n",
    "$$x < -\\sqrt{3} oder x > \\sqrt{3}$$\n",
    "monoton fallend wenn\n",
    "$$x > -\\sqrt{3} {und} x < \\sqrt{3}$$\n",
    "\n",
    "Krümmungsverhalten:\n",
    "\n",
    "konkav für \n",
    "$$x < 0$$\n",
    "kovex für \n",
    "$$x > 0$$\n",
    "\n",
    "\n",
    "Konvergenz:\n",
    "die Funktion konvergiert gegen unendlich"
   ]
  },
  {
   "cell_type": "code",
   "execution_count": 14,
   "metadata": {},
   "outputs": [
    {
     "name": "stdout",
     "output_type": "stream",
     "text": [
      "     10 |                                                     ..\n",
      "        |                                                  ...  \n",
      "        |                                                ..     \n",
      "        |                                             ...       \n",
      "        |                                          ...          \n",
      "        |                                        ..             \n",
      "        |                                     ...               \n",
      "        |                                  ...                  \n",
      "        |                                ..                     \n",
      "        |                             ...                       \n",
      "      0 |--------------------------...--------------------------\n",
      "        |                       ...                             \n",
      "        |                     ..                                \n",
      "        |                  ...                                  \n",
      "        |               ...                                     \n",
      "        |             ..                                        \n",
      "        |          ...                                          \n",
      "        |       ...                                             \n",
      "        |     ..                                                \n",
      "        |  ...                                                  \n",
      "    -10 |_______________________________________________________\n",
      "         -10                        0                          10\n"
     ]
    }
   ],
   "source": [
    "f=x**3-3*x\n",
    "p1 = plot(x)"
   ]
  }
 ],
 "metadata": {
  "kernelspec": {
   "display_name": "Python 3 (ipykernel)",
   "language": "python",
   "name": "python3"
  },
  "language_info": {
   "codemirror_mode": {
    "name": "ipython",
    "version": 3
   },
   "file_extension": ".py",
   "mimetype": "text/x-python",
   "name": "python",
   "nbconvert_exporter": "python",
   "pygments_lexer": "ipython3",
   "version": "3.9.5"
  }
 },
 "nbformat": 4,
 "nbformat_minor": 2
}
